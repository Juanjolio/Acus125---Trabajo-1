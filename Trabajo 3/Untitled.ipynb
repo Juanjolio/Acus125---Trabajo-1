{
 "cells": [
  {
   "cell_type": "markdown",
   "id": "d1e6b434",
   "metadata": {},
   "source": [
    "<img src=\"data:image/jpeg;base64,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\" alt=\"JuveYell\" width=\"300px\" align=right>\n",
    "</div>\n",
    "\n",
    "## Universidad Austral de Chile\n",
    "## Facultad de ciencias de la ingeniería\n",
    "## Instituto de acústica<h2><h2>\n",
    "<h1 style=\"text-align:center\"> <font size=6>Tarea 3: Análisis de Evento Sísmico</font><h1><h1>\n",
    "<h2 style=\"text-align:center\">ACUS125: Aislamiento y Análisis de Vibraciones</h2>\n",
    "<h3 style=\"text-align:center\">17 de junio de 2022</h3>\n",
    "<h3 style=\"text-align:left\">Integrantes:</h3>\n",
    "<p style=\"text-align:left\"> Juan José Ardiles<br>\n",
    "<a href=\"mailto:juan(dot)ardiles(dot)r(at)gmail(dot)com\">juan(dot)ardiles(dot)r(at)gmail(dot)com</a><br>\n",
    "<p style=\"text-align:left\"> Felipe Riquelme G.<br>\n",
    "<a href=\"mailto:felipe(dot)riquelme01(at)alumnos(dot)uach(dot)cl\">felipe(dot)riquelme01(at)alumnos(dot)uach(dot)cl</a><br>\n",
    "<h3 style=\"text-align:left\">Profesor:</h3>\n",
    "<p style=\"text-align:left\"> Víctor Poblete<br>\n",
    "<a href=\"mailto:vpoblete(at)uach(dot)cl\">vpoblete(at)uach(dot)cl</a><br>"
   ]
  },
  {
   "cell_type": "code",
   "execution_count": 15,
   "id": "37aab80d",
   "metadata": {},
   "outputs": [],
   "source": [
    "from obspy import read\n",
    "import pandas as pd"
   ]
  },
  {
   "cell_type": "markdown",
   "id": "f9a4ee98",
   "metadata": {},
   "source": [
    "### Introducción\n",
    "\n",
    "A continuación se realizará un proceso de análisis para un evento sísmico, en el cual se detallarán y describirán las características más importantes en este tipo de fenómenos. Para efectos de ejemplificación se utilizará un sismo ocurrido el día 23 de septiembre del año 2018, a las 05:32 hrs, con una magintud de 5.4° Richter. Es importante mencionar también que se utilizará la librería Obspy para la obtención de todos estos datos."
   ]
  },
  {
   "cell_type": "markdown",
   "id": "4f057041",
   "metadata": {},
   "source": [
    "## Lectura de Archivos y Metadatos\n",
    "\n",
    "El primer paso para el desarrollo de la actividad será utilizar la función 'read' de la librería obspy, la cual permitirá leer los archivos de cada medición del evento sísmico y de esta manera entregar los datos en pantalla. Para ésto, se creará un objeto tipo \"stream\", el cual incluirá la información de la medición en cada estación, a través de los 3 archivos que describen el evento en cada eje, es decir, este-oeste, norte-sur, y el eje vertical o \"z\". Se repetirá este procedimiento para cada estación, con el objetivo de disponer toda la información en sólo 4 streams."
   ]
  },
  {
   "cell_type": "code",
   "execution_count": 7,
   "id": "157503b7",
   "metadata": {},
   "outputs": [
    {
     "name": "stdout",
     "output_type": "stream",
     "text": [
      "3 Trace(s) in Stream:\n",
      "C1.CO02..HHE | 2018-09-23T05:33:31.000000Z - 2018-09-23T05:41:51.000000Z | 100.0 Hz, 50001 samples\n",
      "C1.CO02..HHN | 2018-09-23T05:33:31.000000Z - 2018-09-23T05:41:50.990000Z | 100.0 Hz, 50000 samples\n",
      "C1.CO02..HHZ | 2018-09-23T05:33:31.000001Z - 2018-09-23T05:41:51.000001Z | 100.0 Hz, 50001 samples\n",
      "3 Trace(s) in Stream:\n",
      "C.GO01..BHE | 2018-09-23T05:33:11.000000Z - 2018-09-23T05:40:51.000000Z | 40.0 Hz, 18401 samples\n",
      "C.GO01..BHN | 2018-09-23T05:33:11.000000Z - 2018-09-23T05:40:51.000000Z | 40.0 Hz, 18401 samples\n",
      "C.GO01..BHZ | 2018-09-23T05:33:11.000000Z - 2018-09-23T05:40:51.000000Z | 40.0 Hz, 18401 samples\n",
      "3 Trace(s) in Stream:\n",
      "C.GO03..BHE | 2018-09-23T05:32:51.000000Z - 2018-09-23T05:39:51.000000Z | 40.0 Hz, 16801 samples\n",
      "C.GO03..BHN | 2018-09-23T05:32:51.000000Z - 2018-09-23T05:39:51.000000Z | 40.0 Hz, 16801 samples\n",
      "C.GO03..BHZ | 2018-09-23T05:32:51.000000Z - 2018-09-23T05:39:51.000000Z | 40.0 Hz, 16801 samples\n",
      "3 Trace(s) in Stream:\n",
      "CX.PB09..HHE | 2018-09-23T05:32:31.000000Z - 2018-09-23T05:38:51.000000Z | 100.0 Hz, 38001 samples\n",
      "CX.PB09..HHN | 2018-09-23T05:32:31.000000Z - 2018-09-23T05:38:51.000000Z | 100.0 Hz, 38001 samples\n",
      "CX.PB09..HHZ | 2018-09-23T05:32:31.000000Z - 2018-09-23T05:38:51.000000Z | 100.0 Hz, 38001 samples\n"
     ]
    }
   ],
   "source": [
    "#Stream es un archivo que contiene variada información de un evento\n",
    "#Incluímos las 3 mediciones, o trazas, en un único objeto stream para mayor comodidad al manipular los datos\n",
    "#Primera estación CO02\n",
    "st_co02=read('Evento Sismico\\CO02\\CO02_HHE.SAC') #Creamos un objeto stream con el primer archivo de mediciones\n",
    "st_co02+=read('Evento Sismico\\CO02\\CO02_HHN.SAC') #Al mismo stream le añadimos el segundo archivo\n",
    "st_co02+=read('Evento Sismico\\CO02\\CO02_HHZ.SAC') #Finalmente agregamos el último archivo al stream\n",
    "#Repetimos el mismo procedimiento para la estación 2, GO01\n",
    "st_go01=read('Evento Sismico\\GO01\\GO01_BHE.SAC')\n",
    "st_go01+=read('Evento Sismico\\GO01\\GO01_BHN.SAC')\n",
    "st_go01+=read('Evento Sismico\\GO01\\GO01_BHZ.SAC')\n",
    "#Nuevamente el mismo procedimiento para la estación 3, GO03\n",
    "st_go03=read('Evento Sismico\\GO03\\GO03_BHE.SAC')\n",
    "st_go03+=read('Evento Sismico\\GO03\\GO03_BHN.SAC')\n",
    "st_go03+=read('Evento Sismico\\GO03\\GO03_BHZ.SAC')\n",
    "#Y Finalmente para la estación 4, PB09\n",
    "st_pb09=read('Evento Sismico\\PB09\\PB09_HHE.SAC')\n",
    "st_pb09+=read('Evento Sismico\\PB09\\PB09_HHN.SAC')\n",
    "st_pb09+=read('Evento Sismico\\PB09\\PB09_HHZ.SAC')\n",
    "#Ahora hacemos un print de estos streams\n",
    "print(st_co02)\n",
    "print(st_go01)\n",
    "print(st_go03)\n",
    "print(st_pb09)"
   ]
  },
  {
   "cell_type": "markdown",
   "id": "003f49c5",
   "metadata": {},
   "source": [
    "Como se puede apreciar en la celda anterior, cada objeto stream contiene 3 trazas, las cuales contienen la información de las mediciones para cada eje. Y al momento de hacer un 'print', cada traza muestra 3 datos principales: Primero se encuentra el nombre de la traza, posteriormente la fecha de inicio y término de la medición, y finalmente la frecuencia de muestreo junto a la cantidad total de muestras de la medición."
   ]
  },
  {
   "cell_type": "markdown",
   "id": "df2685cf",
   "metadata": {},
   "source": [
    "### Lectura de data\n",
    "\n",
    "Otra opción que permite Obspy es la lectura directa de los datos de la medición a través de la función 'data'. Para ésto se debe seleccionar una traza de un respectivo stream, y posteriormente la librería nos entrega un arreglo numppy, cuyo contenido es cada una de las muestras de la medición correspondiente. A continuación se hará una muestra para la traza del eje z(posición 2 de cada stream) de cada medición."
   ]
  },
  {
   "cell_type": "code",
   "execution_count": 10,
   "id": "5b51c5ad",
   "metadata": {},
   "outputs": [
    {
     "name": "stdout",
     "output_type": "stream",
     "text": [
      "[168. 179. 182. ... 166. 167. 162.]\n",
      "[974. 976. 978. ... 431. 430. 495.]\n",
      "[ -92. -133. -179. ... -945. -984. -990.]\n",
      "[6198. 6376. 6491. ... 7934. 7414. 6904.]\n"
     ]
    }
   ],
   "source": [
    "print(st_co02[2].data)\n",
    "print(st_go01[2].data)\n",
    "print(st_go03[2].data)\n",
    "print(st_pb09[2].data)"
   ]
  },
  {
   "cell_type": "markdown",
   "id": "03476df6",
   "metadata": {},
   "source": [
    "### Lectura de metadatos\n",
    "\n",
    "Por otro lado Obspy también permite la lectura de los metadatos asociados a cada traza. Para poder acceder a ellos basta con utilizar la función stats, como se muestra a continuación."
   ]
  },
  {
   "cell_type": "code",
   "execution_count": 11,
   "id": "58db10b9",
   "metadata": {},
   "outputs": [
    {
     "data": {
      "text/plain": [
       "         network: C1\n",
       "         station: CO02\n",
       "        location: \n",
       "         channel: HHZ\n",
       "       starttime: 2018-09-23T05:33:31.000001Z\n",
       "         endtime: 2018-09-23T05:41:51.000001Z\n",
       "   sampling_rate: 100.0\n",
       "           delta: 0.01\n",
       "            npts: 50001\n",
       "           calib: 1.0\n",
       "         _format: SAC\n",
       "             sac: AttribDict({'delta': 0.01, 'depmin': -34052.0, 'depmax': 27581.0, 'scale': 1.0, 'b': 1e-06, 'e': 500.0, 'evla': -24.3503, 'evlo': -70.0323, 'evdp': 59.3, 'mag': 5.4, 'user0': 767.8136, 'user1': 0.0, 'dist': 765.4271, 'depmen': 282.8951, 'nzyear': 2018, 'nzjday': 266, 'nzhour': 5, 'nzmin': 33, 'nzsec': 31, 'nzmsec': 0, 'nvhdr': 6, 'npts': 50001, 'iftype': 1, 'iztype': 9, 'leven': 1, 'lpspol': 1, 'lovrok': 1, 'lcalda': 0, 'kstnm': 'CO02', 'kuser0': 'Mww', 'kcmpnm': 'HHZ', 'knetwk': 'C1'})"
      ]
     },
     "execution_count": 11,
     "metadata": {},
     "output_type": "execute_result"
    }
   ],
   "source": [
    "st_co02[2].stats"
   ]
  },
  {
   "cell_type": "markdown",
   "id": "442c2f65",
   "metadata": {},
   "source": [
    "A continuación se procederá a analizar los metadatos más importantes para este tipo de mediciones, comparando los resultados entre las distintas estaciones de medición, en el caso de un mismo evento sísmico."
   ]
  },
  {
   "cell_type": "markdown",
   "id": "d9a04b4c",
   "metadata": {},
   "source": [
    "## Network o Red\n",
    "\n",
    "El primer dato que se puede obtener en este tipo de archivos es la red a la cual pertenece la estación que realizó la medición. Para ésto, se utilizará la función 'stats' de la librería Obspy, la cual permite seleccionar los distintos metadatos que incluye el archivo de medición. Es importante recalcar que por convención, el archivo del eje z es el que incluye mayor cantidad de datos, por lo que éste será el utilizado para el proceso de lectura."
   ]
  },
  {
   "cell_type": "code",
   "execution_count": 18,
   "id": "9544991d",
   "metadata": {
    "scrolled": true
   },
   "outputs": [
    {
     "data": {
      "text/html": [
       "<div>\n",
       "<style scoped>\n",
       "    .dataframe tbody tr th:only-of-type {\n",
       "        vertical-align: middle;\n",
       "    }\n",
       "\n",
       "    .dataframe tbody tr th {\n",
       "        vertical-align: top;\n",
       "    }\n",
       "\n",
       "    .dataframe thead th {\n",
       "        text-align: right;\n",
       "    }\n",
       "</style>\n",
       "<table border=\"1\" class=\"dataframe\">\n",
       "  <thead>\n",
       "    <tr style=\"text-align: right;\">\n",
       "      <th></th>\n",
       "      <th>Estación</th>\n",
       "      <th>Red</th>\n",
       "    </tr>\n",
       "  </thead>\n",
       "  <tbody>\n",
       "    <tr>\n",
       "      <th>0</th>\n",
       "      <td>CO02</td>\n",
       "      <td>C1</td>\n",
       "    </tr>\n",
       "    <tr>\n",
       "      <th>1</th>\n",
       "      <td>GO01</td>\n",
       "      <td>C</td>\n",
       "    </tr>\n",
       "    <tr>\n",
       "      <th>2</th>\n",
       "      <td>GO03</td>\n",
       "      <td>C</td>\n",
       "    </tr>\n",
       "    <tr>\n",
       "      <th>3</th>\n",
       "      <td>PB09</td>\n",
       "      <td>CX</td>\n",
       "    </tr>\n",
       "  </tbody>\n",
       "</table>\n",
       "</div>"
      ],
      "text/plain": [
       "  Estación Red\n",
       "0     CO02  C1\n",
       "1     GO01   C\n",
       "2     GO03   C\n",
       "3     PB09  CX"
      ]
     },
     "execution_count": 18,
     "metadata": {},
     "output_type": "execute_result"
    }
   ],
   "source": [
    "co01_red = [st_co02[2].stats.station,st_co02[2].stats.network]\n",
    "go01_red = [st_go01[2].stats.station,st_go01[2].stats.network]\n",
    "go03_red = [st_go03[2].stats.station,st_go03[2].stats.network]\n",
    "pb09_red = [st_pb09[2].stats.station,st_pb09[2].stats.network]\n",
    "redes = [co01_red,go01_red,go03_red,pb09_red]\n",
    "tablared=pd.DataFrame(redes,columns=['Estación','Red'])\n",
    "tablared"
   ]
  },
  {
   "cell_type": "markdown",
   "id": "b6f0b6bf",
   "metadata": {},
   "source": [
    " En la tabla anterior se puede visualizar que las 4 estaciones que realizaron la medición para este evento sísmico pertenecen a 3 redes distintas. Según la base de datos de Wilber3 de IRIS, tenemos que los códigos de estas redes corresponden a los siguientes nombres:\n",
    "\n",
    "|Red   ||Nombre                                                                 |\n",
    "|------||-----------------------------------------------------------------------|\n",
    "|C     ||Chilean National Seismic Network(20)                                   |\n",
    "|C1    ||Red Sismológica Nacional(82)                                           |\n",
    "|CX    ||IPOC Seismic Network (Integrated Plate Boundary Observatory Chile)(22) |    "
   ]
  },
  {
   "cell_type": "markdown",
   "id": "9b41c015",
   "metadata": {},
   "source": [
    "### Estaciones de Medición\n",
    "\n",
    "También a través de esta librería como ya se ha podido mostrar, podemos encontrar las estaciones en las cuales fueron hechas estas mediciones. A continuación se identificarán cada una de estas estaciones, para las cuales hasta el momento solo reconocemos por su código. Para esto se recurrirá a la información de la web Wilber 3 de Iris nuevamente.\n",
    "\n",
    "|Estación  ||Nombre                           |\n",
    "|----------||---------------------------------|\n",
    "|C002      ||Combarbalá                       |\n",
    "|GO01      ||Chusmiza, Chile                  |\n",
    "|GO03      ||Copiapó (Tierra Amarilla), Chile |\n",
    "|PB09      ||IPOC Station Quillagua Chile     |"
   ]
  },
  {
   "cell_type": "markdown",
   "id": "9aff68a2",
   "metadata": {},
   "source": [
    "# Datos importantes\n",
    "\n",
    "Mencionar las estaciones de medicion\n",
    "Frecuencia de sampleo Cantidad de muestras\n",
    "Fechas de inicio y termino de mediciones\n",
    "\n",
    "\n",
    "Magnitud del evento\n",
    "Ubicación del evento (latitud,longitud, profundidad) Distancia entre estacion y evento(dist)\n",
    "Profundidades mínimas y máximas\n",
    "\n",
    "\n",
    "Nombres estaciones\n",
    "\n",
    "CO02=Combarbalá     source= IRISDMC \n",
    "GO01=Chusmiza, Chile\n",
    "GO03=Copiapó (Tierra Amarilla), Chile\n",
    "PB09=IPOC Station Quillagua, Chile  source=GEOFON\n",
    "\n",
    "\n",
    "\n",
    "\n",
    "\n",
    "\n",
    "\n",
    "\n"
   ]
  }
 ],
 "metadata": {
  "kernelspec": {
   "display_name": "Python 3 (ipykernel)",
   "language": "python",
   "name": "python3"
  },
  "language_info": {
   "codemirror_mode": {
    "name": "ipython",
    "version": 3
   },
   "file_extension": ".py",
   "mimetype": "text/x-python",
   "name": "python",
   "nbconvert_exporter": "python",
   "pygments_lexer": "ipython3",
   "version": "3.10.4"
  },
  "widgets": {
   "application/vnd.jupyter.widget-state+json": {
    "state": {},
    "version_major": 2,
    "version_minor": 0
   }
  }
 },
 "nbformat": 4,
 "nbformat_minor": 5
}
